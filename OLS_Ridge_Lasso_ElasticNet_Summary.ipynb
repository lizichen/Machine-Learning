{
 "cells": [
  {
   "cell_type": "markdown",
   "metadata": {},
   "source": [
    "# OLS, Ridge, Lasso, ElasticNet 本质区别？Note and Summary\n",
    "https://www.zhihu.com/question/38121173/answer/75158776   \n",
    "https://www.zhihu.com/question/28221429  "
   ]
  },
  {
   "cell_type": "markdown",
   "metadata": {},
   "source": []
  },
  {
   "cell_type": "markdown",
   "metadata": {},
   "source": [
    "``链接：https://www.zhihu.com/question/38121173/answer/75158776``\n",
    "\n",
    "**Linear regression**一般只对low dimension适用，比如n=50, p=5，而且这五个变量还不存在multicolinearity.\n",
    "\n",
    "**Ridge Regression**的提出就是为了解决multi-colinearity的，加一个L2 penalty term也是因为算起来方便。然而它并不能shrink parameters to 0.所以没法做variable selection。\n",
    "\n",
    "LASSO是针对Ridge Regression的没法做variable selection的问题提出来的，L1 penalty虽然算起来麻烦，没有解析解，但是可以把某些系数shrink到0啊。\n",
    "\n",
    "然而LASSO虽然可以做variable selection，但是不consistent啊，而且当n很小时至多只能选出n个变量；而且不能做group selection。\n",
    "\n",
    "于是有了在L1和L2 penalty之间做个权重就是elastic net, 针对不consistent有了adaptive lasso，针对不能做group selection有了group lasso, 在graphical models里有了graphical lasso。然后有人说unbiasedness, sparsity and continuity这三条都满足多好，于是有了MCP和SCAD同时满足这三条性质。penalized regression太多了，上面提到的都是比较popular的方法了。"
   ]
  },
  {
   "cell_type": "markdown",
   "metadata": {},
   "source": [
    "- multicollinearity \n",
    "- variable selection\n",
    "- L1/L2\n",
    "- consistent - 估计值依概率收敛到真值\n",
    "- ElasticNet - \n",
    "- Adaptive Lasso\n",
    "- Group Selection\n",
    "- Group Lasso\n",
    "- graphical lasso\n",
    "- unbiasedness, sparsity, and continuity\n",
    "- MCP\n",
    "- SCAD"
   ]
  },
  {
   "cell_type": "code",
   "execution_count": null,
   "metadata": {
    "collapsed": true
   },
   "outputs": [],
   "source": []
  },
  {
   "cell_type": "code",
   "execution_count": null,
   "metadata": {
    "collapsed": true
   },
   "outputs": [],
   "source": []
  }
 ],
 "metadata": {
  "anaconda-cloud": {},
  "kernelspec": {
   "display_name": "Python [conda env:py36]",
   "language": "python",
   "name": "conda-env-py36-py"
  },
  "language_info": {
   "codemirror_mode": {
    "name": "ipython",
    "version": 3
   },
   "file_extension": ".py",
   "mimetype": "text/x-python",
   "name": "python",
   "nbconvert_exporter": "python",
   "pygments_lexer": "ipython3",
   "version": "3.6.6"
  }
 },
 "nbformat": 4,
 "nbformat_minor": 2
}
